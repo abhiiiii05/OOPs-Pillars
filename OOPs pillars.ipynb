{
 "cells": [
  {
   "cell_type": "markdown",
   "id": "7f070f74-1362-425f-bf5d-526bbcd8abc3",
   "metadata": {},
   "source": [
    "### Pollymorphism"
   ]
  },
  {
   "cell_type": "code",
   "execution_count": 2,
   "id": "066f0920-b70a-4879-b839-17860097d959",
   "metadata": {},
   "outputs": [],
   "source": [
    "def test(a,b):\n",
    "    return a+b"
   ]
  },
  {
   "cell_type": "code",
   "execution_count": 3,
   "id": "16597795-7a17-4dae-adca-61067616f0e1",
   "metadata": {},
   "outputs": [
    {
     "data": {
      "text/plain": [
       "9"
      ]
     },
     "execution_count": 3,
     "metadata": {},
     "output_type": "execute_result"
    }
   ],
   "source": [
    "test(4,5)"
   ]
  },
  {
   "cell_type": "code",
   "execution_count": 5,
   "id": "dedd764f-9286-4f58-84b8-5532c7d81934",
   "metadata": {},
   "outputs": [
    {
     "data": {
      "text/plain": [
       "'sudh kumar'"
      ]
     },
     "execution_count": 5,
     "metadata": {},
     "output_type": "execute_result"
    }
   ],
   "source": [
    "test(\"sudh \",\"kumar\")"
   ]
  },
  {
   "cell_type": "code",
   "execution_count": 7,
   "id": "5edc13e5-378a-471a-b6d4-a2293280cb6f",
   "metadata": {},
   "outputs": [
    {
     "data": {
      "text/plain": [
       "[1, 2, 3, 4, 5, 6, 7, 8, 9]"
      ]
     },
     "execution_count": 7,
     "metadata": {},
     "output_type": "execute_result"
    }
   ],
   "source": [
    "test([1,2,3,4,5],[6,7,8,9])"
   ]
  },
  {
   "cell_type": "code",
   "execution_count": 8,
   "id": "e99752e4-632c-4c54-90f0-30925f92ba1a",
   "metadata": {},
   "outputs": [],
   "source": [
    "class data_science:\n",
    "    def syllabus(self):\n",
    "        print(\"this is my method for dara science\")"
   ]
  },
  {
   "cell_type": "code",
   "execution_count": 9,
   "id": "00ffd101-c984-41a2-9afc-df85577a1e5e",
   "metadata": {},
   "outputs": [],
   "source": [
    "class web_dev:\n",
    "    def syllabus(self):\n",
    "        print(\"this is my method for web dev\")"
   ]
  },
  {
   "cell_type": "code",
   "execution_count": 11,
   "id": "8cf321da-4403-445b-86b1-b08062b8804c",
   "metadata": {},
   "outputs": [],
   "source": [
    "def class_parcer(class_obj):\n",
    "    for i in class_obj :\n",
    "        i.syllabus()"
   ]
  },
  {
   "cell_type": "code",
   "execution_count": 12,
   "id": "cdab302a-b48f-47a9-967b-a83d9e867a45",
   "metadata": {},
   "outputs": [],
   "source": [
    "obj_data_science = data_science()"
   ]
  },
  {
   "cell_type": "code",
   "execution_count": 13,
   "id": "9b8a9cd8-292b-49ba-abb7-7e6bbaac6ab1",
   "metadata": {},
   "outputs": [],
   "source": [
    "obj_web_dev = web_dev()"
   ]
  },
  {
   "cell_type": "code",
   "execution_count": 14,
   "id": "29c96d5e-2f12-47fa-a7ce-118f82c805f8",
   "metadata": {},
   "outputs": [],
   "source": [
    "class_obj = [obj_data_science , obj_web_dev]"
   ]
  },
  {
   "cell_type": "code",
   "execution_count": 15,
   "id": "ed4ec77c-6b33-4c9b-9f40-20a463c81a29",
   "metadata": {},
   "outputs": [
    {
     "name": "stdout",
     "output_type": "stream",
     "text": [
      "this is my method for dara science\n",
      "this is my method for web dev\n"
     ]
    }
   ],
   "source": [
    "class_parcer(class_obj)"
   ]
  },
  {
   "cell_type": "markdown",
   "id": "b061c41d-c35b-4862-a2ec-2008af21afa3",
   "metadata": {},
   "source": [
    "### Encapsulation"
   ]
  },
  {
   "cell_type": "code",
   "execution_count": 16,
   "id": "7a391d09-d892-4f8c-ba5e-b7bd0c85d0be",
   "metadata": {},
   "outputs": [],
   "source": [
    "class test:\n",
    "    def __init__(self , a,b):\n",
    "        self.a = a\n",
    "        self.b = b"
   ]
  },
  {
   "cell_type": "code",
   "execution_count": 17,
   "id": "4f4794a7-9509-4660-a901-809750a10261",
   "metadata": {},
   "outputs": [],
   "source": [
    "t = test(45,56)"
   ]
  },
  {
   "cell_type": "code",
   "execution_count": 18,
   "id": "764ecf22-53eb-406a-a4b5-b658e20768ee",
   "metadata": {},
   "outputs": [
    {
     "data": {
      "text/plain": [
       "45"
      ]
     },
     "execution_count": 18,
     "metadata": {},
     "output_type": "execute_result"
    }
   ],
   "source": [
    "t.a"
   ]
  },
  {
   "cell_type": "code",
   "execution_count": 19,
   "id": "492ac611-e409-46b5-947e-83f738a66701",
   "metadata": {},
   "outputs": [
    {
     "data": {
      "text/plain": [
       "56"
      ]
     },
     "execution_count": 19,
     "metadata": {},
     "output_type": "execute_result"
    }
   ],
   "source": [
    "t.b"
   ]
  },
  {
   "cell_type": "code",
   "execution_count": 20,
   "id": "9a2eb71c-4c84-469f-860f-dba5efc9f35f",
   "metadata": {},
   "outputs": [],
   "source": [
    "t.a = 657"
   ]
  },
  {
   "cell_type": "code",
   "execution_count": 21,
   "id": "b236b617-04de-4f4a-9d93-8a42e4dfa763",
   "metadata": {},
   "outputs": [
    {
     "data": {
      "text/plain": [
       "657"
      ]
     },
     "execution_count": 21,
     "metadata": {},
     "output_type": "execute_result"
    }
   ],
   "source": [
    "t.a"
   ]
  },
  {
   "cell_type": "code",
   "execution_count": 40,
   "id": "a7b4a76d-b038-4ca0-a777-8af4acdc5d18",
   "metadata": {},
   "outputs": [],
   "source": [
    "class car:\n",
    "    def __init__(self,year,make,model,speed):\n",
    "        self.__year = year\n",
    "        self.__make = make\n",
    "        self.__model = model\n",
    "        self.__speed = 0        \n",
    "    def set_speed(self , speed):\n",
    "        self.__speed = 0 if speed < 0 else speed\n",
    "    def get_speed(self):\n",
    "        return self.__speed"
   ]
  },
  {
   "cell_type": "code",
   "execution_count": 43,
   "id": "2039f53b-a020-4d34-8ca9-bb3d0e8aec3e",
   "metadata": {},
   "outputs": [],
   "source": [
    "obj_car.set_speed(123)"
   ]
  },
  {
   "cell_type": "code",
   "execution_count": 47,
   "id": "9e6754b8-e9b4-435b-81de-b88edf61381d",
   "metadata": {},
   "outputs": [
    {
     "data": {
      "text/plain": [
       "123"
      ]
     },
     "execution_count": 47,
     "metadata": {},
     "output_type": "execute_result"
    }
   ],
   "source": [
    "obj_car.get_speed()"
   ]
  },
  {
   "cell_type": "code",
   "execution_count": 41,
   "id": "cad6079d-9ff8-4315-b15e-08297bcfab50",
   "metadata": {},
   "outputs": [],
   "source": [
    "obj_car = car(2021 , \"toyota\" , \"innova\" ,  12)"
   ]
  },
  {
   "cell_type": "code",
   "execution_count": 21,
   "id": "9794529f-fb15-4337-947a-1b51e8a5a3bc",
   "metadata": {},
   "outputs": [],
   "source": [
    "obj_car._car__year = 2023"
   ]
  },
  {
   "cell_type": "code",
   "execution_count": 22,
   "id": "4fed87f1-de48-4537-80eb-568160f724b1",
   "metadata": {},
   "outputs": [
    {
     "data": {
      "text/plain": [
       "2023"
      ]
     },
     "execution_count": 22,
     "metadata": {},
     "output_type": "execute_result"
    }
   ],
   "source": [
    "obj_car._car__year"
   ]
  },
  {
   "cell_type": "code",
   "execution_count": 46,
   "id": "57b6a970-5012-4c94-96e0-c3e1679241ea",
   "metadata": {},
   "outputs": [
    {
     "data": {
      "text/plain": [
       "123"
      ]
     },
     "execution_count": 46,
     "metadata": {},
     "output_type": "execute_result"
    }
   ],
   "source": [
    "obj_car._car__speed"
   ]
  },
  {
   "cell_type": "code",
   "execution_count": 56,
   "id": "31d0cfd6-848b-4e1e-a804-4941ae7ac70a",
   "metadata": {},
   "outputs": [],
   "source": [
    "class  bank_account:\n",
    "    def __init__(self , balance):\n",
    "        self.__balance = balance\n",
    "    \n",
    "    def deposit(self , amount):\n",
    "        self.__balance = self.__balance + amount\n",
    "    \n",
    "    def withdraw(self , amount):\n",
    "        if self.__balance >= amount:\n",
    "            self.__balance =  self.__balance - amount\n",
    "        \n",
    "            return True\n",
    "        else:\n",
    "            return False\n",
    "        \n",
    "    def get_balance(self):\n",
    "        return self.__balance"
   ]
  },
  {
   "cell_type": "code",
   "execution_count": 57,
   "id": "0feb3de0-e2bf-4a2e-a53c-9298f469aa4f",
   "metadata": {},
   "outputs": [],
   "source": [
    "obj_bank_account = bank_account(1000)"
   ]
  },
  {
   "cell_type": "code",
   "execution_count": 58,
   "id": "e87f11c5-fa9f-4783-8252-6d1f5a921916",
   "metadata": {},
   "outputs": [
    {
     "data": {
      "text/plain": [
       "1000"
      ]
     },
     "execution_count": 58,
     "metadata": {},
     "output_type": "execute_result"
    }
   ],
   "source": [
    "obj_bank_account.get_balance()"
   ]
  },
  {
   "cell_type": "code",
   "execution_count": 59,
   "id": "e368618b-6ec0-4a76-833c-b4a2522d6fa4",
   "metadata": {},
   "outputs": [],
   "source": [
    "obj_bank_account.deposit(2000)"
   ]
  },
  {
   "cell_type": "code",
   "execution_count": 60,
   "id": "f209a4c5-50c3-4e6d-a345-91d6d5d01ab7",
   "metadata": {},
   "outputs": [
    {
     "data": {
      "text/plain": [
       "3000"
      ]
     },
     "execution_count": 60,
     "metadata": {},
     "output_type": "execute_result"
    }
   ],
   "source": [
    "obj_bank_account.get_balance()"
   ]
  },
  {
   "cell_type": "code",
   "execution_count": 61,
   "id": "4a5c43ed-ede6-4b5e-9e05-00cd5a94cad1",
   "metadata": {},
   "outputs": [
    {
     "data": {
      "text/plain": [
       "False"
      ]
     },
     "execution_count": 61,
     "metadata": {},
     "output_type": "execute_result"
    }
   ],
   "source": [
    "obj_bank_account.withdraw(3500)"
   ]
  },
  {
   "cell_type": "code",
   "execution_count": 62,
   "id": "405c2679-f6a7-491f-a5be-658013e8e426",
   "metadata": {},
   "outputs": [
    {
     "data": {
      "text/plain": [
       "True"
      ]
     },
     "execution_count": 62,
     "metadata": {},
     "output_type": "execute_result"
    }
   ],
   "source": [
    "obj_bank_account.withdraw(2500)"
   ]
  },
  {
   "cell_type": "code",
   "execution_count": 63,
   "id": "c3aaffb1-84a2-4ac8-8f8a-9ae6deeb26f5",
   "metadata": {},
   "outputs": [
    {
     "data": {
      "text/plain": [
       "500"
      ]
     },
     "execution_count": 63,
     "metadata": {},
     "output_type": "execute_result"
    }
   ],
   "source": [
    "obj_bank_account.get_balance()"
   ]
  },
  {
   "cell_type": "markdown",
   "id": "e6daefe4-ba39-4a1a-81e2-dbb7c9964e7e",
   "metadata": {},
   "source": [
    "### Inheritance"
   ]
  },
  {
   "cell_type": "code",
   "execution_count": 6,
   "id": "a7063ba4-641b-48bb-9c16-638d6fe64832",
   "metadata": {},
   "outputs": [],
   "source": [
    "class parent :\n",
    "    def test_parent(self):\n",
    "        print(\"this is my parent class\")"
   ]
  },
  {
   "cell_type": "code",
   "execution_count": 7,
   "id": "0f17f0c8-6f11-45bc-9590-2b376671247d",
   "metadata": {},
   "outputs": [],
   "source": [
    "class child(parent):\n",
    "    pass"
   ]
  },
  {
   "cell_type": "code",
   "execution_count": 8,
   "id": "b2015b89-5ec4-4764-bf70-a57cfe9d9220",
   "metadata": {},
   "outputs": [],
   "source": [
    "child_obj = child()"
   ]
  },
  {
   "cell_type": "code",
   "execution_count": 9,
   "id": "5f1e1d17-edd6-4d23-9ecb-ca3ba8f7dc3f",
   "metadata": {},
   "outputs": [
    {
     "name": "stdout",
     "output_type": "stream",
     "text": [
      "this is my parent class\n"
     ]
    }
   ],
   "source": [
    "child_obj.test_parent()"
   ]
  },
  {
   "cell_type": "code",
   "execution_count": 11,
   "id": "0987a1c6-a3a2-416b-9464-515aa8380c41",
   "metadata": {},
   "outputs": [],
   "source": [
    "class class1:\n",
    "    def test_class1(self):\n",
    "        print(\"this is my class1\")"
   ]
  },
  {
   "cell_type": "code",
   "execution_count": 14,
   "id": "461dd775-d262-4445-ae80-2b8081a2293b",
   "metadata": {},
   "outputs": [],
   "source": [
    "class class2(class1):\n",
    "    def test_class2(self):\n",
    "        print(\"this is my class2\")"
   ]
  },
  {
   "cell_type": "code",
   "execution_count": 15,
   "id": "83bb1bcb-9b5b-4f3b-a1c8-4e4853266dd7",
   "metadata": {},
   "outputs": [],
   "source": [
    "class class3(class2):\n",
    "    def test_class3(self):\n",
    "        print(\"this is my class3\")"
   ]
  },
  {
   "cell_type": "code",
   "execution_count": 18,
   "id": "3a36015f-8711-41ed-8526-2f90b9c5ce7f",
   "metadata": {},
   "outputs": [],
   "source": [
    "obj_class3 = class3()"
   ]
  },
  {
   "cell_type": "code",
   "execution_count": 19,
   "id": "94587c58-ecf8-4f9f-b661-5f7a35021690",
   "metadata": {},
   "outputs": [
    {
     "name": "stdout",
     "output_type": "stream",
     "text": [
      "this is my class1\n"
     ]
    }
   ],
   "source": [
    "obj_class3.test_class1()"
   ]
  },
  {
   "cell_type": "code",
   "execution_count": 20,
   "id": "aa033a16-a9f2-48c6-9c47-7329439fff4f",
   "metadata": {},
   "outputs": [
    {
     "name": "stdout",
     "output_type": "stream",
     "text": [
      "this is my class2\n"
     ]
    }
   ],
   "source": [
    "obj_class3.test_class2()"
   ]
  },
  {
   "cell_type": "code",
   "execution_count": 21,
   "id": "bed4de2f-9265-4663-9838-6e4a154bc150",
   "metadata": {},
   "outputs": [
    {
     "name": "stdout",
     "output_type": "stream",
     "text": [
      "this is my class3\n"
     ]
    }
   ],
   "source": [
    "obj_class3.test_class3()"
   ]
  },
  {
   "cell_type": "code",
   "execution_count": 22,
   "id": "03cfcd20-79ba-4cb7-8cd9-b260fbaf8d5a",
   "metadata": {},
   "outputs": [],
   "source": [
    "class class1:\n",
    "    def test_class1(self):\n",
    "        print(\"this is my class1\")"
   ]
  },
  {
   "cell_type": "code",
   "execution_count": 23,
   "id": "6dd4c0d7-f085-4d70-a1fb-3d5fc381c863",
   "metadata": {},
   "outputs": [],
   "source": [
    "class class2:\n",
    "    def test_class2(self):\n",
    "        print(\"this is my class2\")"
   ]
  },
  {
   "cell_type": "code",
   "execution_count": 24,
   "id": "3417c729-5ceb-46b7-9929-523c6580c651",
   "metadata": {},
   "outputs": [],
   "source": [
    "class class3(class1 , class2):\n",
    "    pass"
   ]
  },
  {
   "cell_type": "code",
   "execution_count": 25,
   "id": "fbee4cd4-2178-433b-a157-a16e85bfb60a",
   "metadata": {},
   "outputs": [],
   "source": [
    "obj_class3 = class3()"
   ]
  },
  {
   "cell_type": "code",
   "execution_count": 26,
   "id": "ad262404-d1d0-4e86-b804-c63ff468b5a5",
   "metadata": {},
   "outputs": [
    {
     "name": "stdout",
     "output_type": "stream",
     "text": [
      "this is my class1\n"
     ]
    }
   ],
   "source": [
    "obj_class3.test_class1()"
   ]
  },
  {
   "cell_type": "code",
   "execution_count": 27,
   "id": "ec66c3f3-857b-4979-b522-f7e8e389a8ab",
   "metadata": {},
   "outputs": [
    {
     "name": "stdout",
     "output_type": "stream",
     "text": [
      "this is my class2\n"
     ]
    }
   ],
   "source": [
    "obj_class3.test_class2()"
   ]
  },
  {
   "cell_type": "markdown",
   "id": "617cff11-2597-4d8c-8f73-1f8be73d1968",
   "metadata": {},
   "source": [
    "### Abstraction"
   ]
  },
  {
   "cell_type": "code",
   "execution_count": 29,
   "id": "3cd6de93-39c9-419f-84ed-3904a2810409",
   "metadata": {},
   "outputs": [],
   "source": [
    "import abc\n",
    "\n",
    "class pwskills:\n",
    "    \n",
    "    @abc.abstractmethod\n",
    "    def student_details(self):\n",
    "        pass\n",
    "    @abc.abstractmethod\n",
    "    def student_assignment(self):\n",
    "        pass\n",
    "    @abc.abstractmethod\n",
    "    def student_marks(self):\n",
    "        pass"
   ]
  },
  {
   "cell_type": "code",
   "execution_count": 31,
   "id": "1317c560-b7cc-444f-8a75-3b7162b7751e",
   "metadata": {},
   "outputs": [],
   "source": [
    "class data_science(pwskills):\n",
    "    def student_details(self):\n",
    "        return \"it will try to return a details of data science masters\"\n",
    "    def student_assignment(self):\n",
    "        return \"it will try to return the details of assignment\""
   ]
  },
  {
   "cell_type": "code",
   "execution_count": 32,
   "id": "e764d72c-d9e7-4e85-9bdf-b5d2520c6ceb",
   "metadata": {},
   "outputs": [],
   "source": [
    "class web_dev(pwskills):\n",
    "    def student_details(self):\n",
    "        return \"it will try to return a details of web dev\"\n",
    "\n",
    "    def student_marks(self):\n",
    "        return \"it will return the marks obtained\""
   ]
  },
  {
   "cell_type": "code",
   "execution_count": 33,
   "id": "8842924a-335e-409c-a20b-e24af17f8725",
   "metadata": {},
   "outputs": [
    {
     "data": {
      "text/plain": [
       "'it will try to return a details of data science masters'"
      ]
     },
     "execution_count": 33,
     "metadata": {},
     "output_type": "execute_result"
    }
   ],
   "source": [
    "DS = data_science()\n",
    "DS.student_details()"
   ]
  },
  {
   "cell_type": "code",
   "execution_count": 34,
   "id": "82be5d95-480d-4771-8b87-e1b37149e9a6",
   "metadata": {},
   "outputs": [
    {
     "data": {
      "text/plain": [
       "'it will try to return a details of web dev'"
      ]
     },
     "execution_count": 34,
     "metadata": {},
     "output_type": "execute_result"
    }
   ],
   "source": [
    "WD = web_dev()\n",
    "WD.student_details()"
   ]
  },
  {
   "cell_type": "code",
   "execution_count": null,
   "id": "323ca51c-7565-498b-abb6-b7d87128b806",
   "metadata": {},
   "outputs": [],
   "source": []
  }
 ],
 "metadata": {
  "kernelspec": {
   "display_name": "Python 3 (ipykernel)",
   "language": "python",
   "name": "python3"
  },
  "language_info": {
   "codemirror_mode": {
    "name": "ipython",
    "version": 3
   },
   "file_extension": ".py",
   "mimetype": "text/x-python",
   "name": "python",
   "nbconvert_exporter": "python",
   "pygments_lexer": "ipython3",
   "version": "3.10.8"
  }
 },
 "nbformat": 4,
 "nbformat_minor": 5
}
